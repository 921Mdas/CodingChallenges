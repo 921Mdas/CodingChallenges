{
 "cells": [
  {
   "cell_type": "code",
   "execution_count": null,
   "metadata": {},
   "outputs": [],
   "source": [
    "\"Given an array, rotate the array to the right by k steps, where k is non-negative.\"\n",
    "\n",
    "# var rotate = function(nums, k) {\n",
    "#  if(k>nums.length){\n",
    "#   k = k % nums.length\n",
    "#  }\n",
    "\n",
    "#  if(k===0){\n",
    "#      return nums\n",
    "#  }\n",
    "#  nums.unshift(...nums.slice(-k))\n",
    "#     nums.splice(-k)\n",
    "#     return nums\n",
    "# };\n",
    "\n",
    "\"Given a non-negative integer x, compute and return the square root of x.\"\n",
    "\n",
    "# var mySqrt = function(x) {\n",
    "#    return Math.trunc(Math.sqrt(x))\n",
    "# };\n"
   ]
  }
 ],
 "metadata": {
  "language_info": {
   "name": "python"
  },
  "orig_nbformat": 4
 },
 "nbformat": 4,
 "nbformat_minor": 2
}
